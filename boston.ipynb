{
 "cells": [
  {
   "cell_type": "markdown",
   "metadata": {},
   "source": [
    "# Project1: 보스턴 주택 가격 예측 및 평가\n",
    "> Summary : pandas, numpy 및 pyplot을 사용하여 데이터를 탐색하고, scikit-learn으로 예측하고, R_2, k-fold cross-validation, learning curves, complexity curve, GridSearchCV, RandomizedSerchCV 등을 사용하여 평가한다.\n",
    "\n",
    "[Machine Learning Engineer Nanodegree](https://github.com/ritchieng/machine-learning-nanodegree.git) (machine-learning-nanodegree/model_evaluation_prediction/boston_housing)에 관련 자료가 있음\n",
    "\n",
    "#### Model Evaluation & Validation\n",
    "\n",
    "----\n",
    "\n",
    "## 시작하기\n",
    "\n",
    "\n",
    "이 프로젝트에서는 매사추세츠 주 보스턴 근교의 집에서 수집한 data에 대해 train 되고 test 된 모델의 성능 및 예측력을 평가한다. 이 data에 대해 잘 fit된 모델은 집에 대한 특정 예측, 특히 금전적 가치를 산출하는 데 사용될 수 있다. 이 모델은 매일 이러한 정보를 사용해야 하는 부동산 중개인과 같은 사람에게는 매우 중요하다.\n",
    "\n",
    "\n",
    "이 프로젝트의 dataset는 UCI Machine Learning Repository에서 시작했다. Boston housing data는 1978 년에 수집되었으며 506 개 항목 각각은 매사추세츠 보스턴의 여러 교외 지역 주택에 대한 집계된 데이터를 나타낸다. 이 프로젝트의 목적을 위해 다음과 같은 전처리 단계가 데이터 세트에 적용되었다.\n",
    "\n",
    "> Data 이상치(Outlier)와 이를 전처리(Data Preparation)한 작업에 대한 설명\n",
    "\n",
    "* 16 데이터 포인트의 'MEDV'값은 50.0이다. 이 데이터 포인트에는 빠진 값이나 검열 된 값이 포함되어있을 수 있으므로 제거되었다.\n",
    "\n",
    "* 1 데이터 포인트의 'RM'값은 8.78이다. 이 데이터 포인트는 이상치로 간주되어 제거되었다.\n",
    "\n",
    "* 'RM', 'LSTAT', 'PTRATIO'및 'MEDV'기능은 필수적이다. 나머지 비 관련 기능은 제외되었다.\n",
    "* 'MEDV'기능은 35 년간의 시장 팽창을 고려하여 곱셈적으로 확장되었다.\n",
    "\n",
    "\n",
    "이 프로젝트에 필요한 python library 몇 개와 함께 boston housing dataset을 load하려면 아래 code cell을 실행. dataset의 size가 보고되면 성공적으로 load된 dataset을 알 수 있다."
   ]
  },
  {
   "cell_type": "code",
   "execution_count": 2,
   "metadata": {},
   "outputs": [
    {
     "name": "stdout",
     "output_type": "stream",
     "text": [
      "Boston housing dataset has 489 data points with 4 variables each\n"
     ]
    }
   ],
   "source": [
    "# Import libraries necessary for this project\n",
    "import numpy as np\n",
    "import pandas as pd\n",
    "from sklearn.model_selection import ShuffleSplit\n",
    "from sklearn.model_selection import learning_curve\n",
    "from sklearn.svm import SVC\n",
    "\n",
    "# Pretty display for notebooks\n",
    "%matplotlib inline\n",
    "\n",
    "# Load the Boston housing dataset\n",
    "data = pd.read_csv('/home/is/Dropbox/machine-learning-nanodegree/model_evaluation_prediction/boston_housing/housing.csv')\n",
    "prices = data['MEDV']\n",
    "features = data.drop('MEDV', axis = 1)\n",
    "\n",
    "# Success\n",
    "print ('Boston housing dataset has {0} data points with {1} variables each'.format(*data.shape))"
   ]
  },
  {
   "cell_type": "markdown",
   "metadata": {},
   "source": [
    "-----\n",
    "## 데이터 탐색(Data Exploration)\n",
    "\n",
    "> 본래 boston housing dataset는 14개의 변수로 구성됨. 하지만 이 프로젝트에서는 4개의 변수만 사용함. 아래 링크 참조  \n",
    "[source data](https://archive.ics.uci.edu/ml/machine-learning-databases/housing/?C=N;O=D)  \n",
    "[explanation](https://www.cs.toronto.edu/~delve/data/boston/bostonDetail.html)\n",
    "* crim - 도시별 1인당 범죄율  \n",
    "* zn - 2만 5천 평방 피트를 넘는 지역에 주거지가 차지하는 비율.  \n",
    "* indus - 마을당 비소매사업 에이커의 비율.  \n",
    "* chas - 찰스 리버 더미 변수 (강이 경계에 있으면 1, 그렇지 않으면 0)  \n",
    "* nox - 산화 질소 농도 (1000 만 분의 1)  \n",
    "* rm - 주거당 평균 객실 수  \n",
    "* age - 1940년 이전에 건설 된 소유주 거주 단위 비율  \n",
    "* dis - 5개의 보스턴 고용 센터에 대한 가중 거리  \n",
    "* rad - 방사형 고속도로 접근성 지수  \n",
    "* tax - 만달러당 완전 가치 재산세 세율  \n",
    "* ptration - town별 학생 - 교사 비율  \n",
    "* black - 1000 (Bk - 0.63)^2 여기서 Bk는 town별 흑인 비율  \n",
    "* lstate - 인구 감소 % 상태  \n",
    "* medv - 1000달러짜리 주택 소유 주택의 중간값  \n",
    "\n",
    "이 프로젝트의 첫 번째 섹션에서는 보스턴 주택 데이터에 대한 간단한 조사를 하고 관찰을 제공합니다. 탐색 프로세스를 통해 데이터에 익숙해지는 것이 결과를 더 잘 이해하고 정당화 할 수 있도록 돕는 기본 습관입니다.\n",
    "\n",
    "이 프로젝트의 주요 목적은 주택 가치를 예측할 수 있는 작업 모델을 구성하는 것이므로 데이터 세트를 **feature(독립변수)**와 **target variable(종속변수)**로 분리해야 합니다. **features**,  'RM'(방 개수), 'LSTAT'(인구감소비중), 'PTRATIO'(선생님당학생수)는 각 데이터 요소에 대한 양적 정보를 제공합니다. **target variable**,  'MEDV'은 우리가 예측하고자하는 변수가 될 것입니다. 이들은 features과 price에 각각 저장됩니다.\n",
    "\n",
    "\n",
    "### 구현(Implementation) : 통계 계산(Calculate Statistics)\n",
    "\n",
    "최초의 코딩 구현을 위해 Boston 주택 가격에 대한 기술적 통계를 계산합니다. numpy는 이미 사용 가능하므로 이 라이브러리를 사용하여 필요한 계산을 수행하십시오.\n",
    "\n",
    "아래의 코드 셀에서 다음을 구현해야합니다.\n",
    "\n",
    "* 가격에 저장된 'MEDV'의 최소, 최대, 평균, 중간 및 표준 편차를 계산합니다.\n",
    "    * 각 계산을 각각의 변수에 저장하십시오.\n",
    "\n",
    "#### Pandas 사용(more efficient)"
   ]
  },
  {
   "cell_type": "code",
   "execution_count": 3,
   "metadata": {},
   "outputs": [
    {
     "name": "stdout",
     "output_type": "stream",
     "text": [
      "Statistics for Boston housing dataset:\n",
      "\n",
      "Minimum price: $105,000.00\n",
      "Maximum price: $1,024,800.00\n",
      "Mean price: $454,342.94\n",
      "Median price $438,900.00\n",
      "Standard deviation of prices: $165,171.13\n",
      "First quartile of prices: $350,700.00\n",
      "Second quartile of prices: $518,700.00\n",
      "Interquartile (IQR) of prices: $168,000.00\n"
     ]
    }
   ],
   "source": [
    "# TODO: Minimum price of the data\n",
    "minimum_price = np.min(prices)\n",
    "# Alternative using pandas\n",
    "# minimum_price = prices.min()\n",
    "\n",
    "# TODO: Maximum price of the data\n",
    "maximum_price = np.max(prices)\n",
    "# Alternative using pandas\n",
    "# maximum_price = prices.max()\n",
    "\n",
    "# TODO: Mean price of the data\n",
    "mean_price = np.mean(prices)\n",
    "# Alternative using pandas\n",
    "# mean_price = prices.mean()\n",
    "\n",
    "# TODO: Median price of the data\n",
    "median_price = np.median(prices)\n",
    "# Alternative using pandas\n",
    "# median_price = prices.median()\n",
    "\n",
    "# TODO: Standard deviation of prices of the data\n",
    "std_price = np.std(prices)\n",
    "# Alternative using pandas \n",
    "# std_price = prices.std(ddof=0)\n",
    "\n",
    "# There are other statistics you can calculate too like quartiles\n",
    "first_quartile = np.percentile(prices, 25)\n",
    "third_quartile = np.percentile(prices, 75)\n",
    "inter_quartile = third_quartile - first_quartile\n",
    "\n",
    "# Show the calculated statistics\n",
    "print (\"Statistics for Boston housing dataset:\\n\")\n",
    "print (\"Minimum price: ${:,.2f}\".format(minimum_price))\n",
    "print (\"Maximum price: ${:,.2f}\".format(maximum_price))\n",
    "print (\"Mean price: ${:,.2f}\".format(mean_price))\n",
    "print (\"Median price ${:,.2f}\".format(median_price))\n",
    "print (\"Standard deviation of prices: ${:,.2f}\".format(std_price))\n",
    "print (\"First quartile of prices: ${:,.2f}\".format(first_quartile))\n",
    "print (\"Second quartile of prices: ${:,.2f}\".format(third_quartile))\n",
    "print (\"Interquartile (IQR) of prices: ${:,.2f}\".format(inter_quartile))"
   ]
  },
  {
   "cell_type": "markdown",
   "metadata": {},
   "source": [
    "### Question 1 - Feature Observation\n",
    "\n",
    "다시 말하면 보스턴 주택 데이터 세트의 세 가지 feature인 'RM', 'LSTAT'및 'PTRATIO'를 사용하고 있다. 각 데이터 포인트 (neighborhood) :\n",
    "\n",
    "* 'RM'은 이웃에있는 집들 사이의 평균 객실 수\n",
    "* 'LSTAT'은 이웃에 거주하는 주택가가 \"하급층\"(working poor)으로 간주되는 비율\n",
    "* 'PTRATIO'는 이웃에있는 초등 학교와 중등 학교 교사의 학생 비율\n",
    "\n",
    "직감을 사용하여 위의 세 가지 feature 각각에 대해 해당 feature의 가치가 증가하면 'MEDV'가치가 **증가**하거나 'MEDV'가치가 **낮아**질 것이라고 생각합니까? 각각에 대한 답을 정당화하라  \n",
    "\n",
    "**Hint** : 'RM'값이 6인 집이 'RM'값이 7인 집보다 많거나 적을 것으로 기대합니까?\n",
    "\n",
    "**Answer**:\n",
    "\n",
    "1. RM\n",
    "    * RM이 높으면 MEDV가 높을 것으로 예상된다.\n",
    "    * 더 많은 room이 더 많은 공간을 포함하기 때문에 더 많은 비용이 소요되고 다른 모든 요인은 일정해지기 때문이다.  \n",
    "    \n",
    "1. LSTAT\n",
    "    * LSTAT가 높으면 MEDV가 낮을 것으로 예상된다.\n",
    "    * \"lower class\"시민들이 지배하는 지역의 사회적 환경은 어린 아이들에게 도움이되지 않을 수도 있습니다. \"upper class\"시민이 지배하는 지역에 비해 상대적으로 안전하지 않을 수도 있다. 따라서 더 많은 \"lower class\"시민이 있는 지역은 수요를 낮추고, 따라서 가격을 낮출 것이다.\n",
    "\n",
    "1. PTRATIO\n",
    "    * 높은 PTRATIO의 경우 MEDV가 낮을 것으로 예상된다.\n",
    "    * 이는 학생 대 교사 비율이 낮아 학생 개개인의 관심도가 낮아 학교에서의 성적을 저해할 수 있기 때문이다. 전형적으로 이것은 사립 학교에 비해 공립/주립 학교의 시나리오다. 공립학교 주변 주택 가격은 사립 학교 주변 주택 가격보다 일반적으로 낮다. 따라서 그러한 지역의 주택에 대한 수요가 더 적기 때문에 학생 대 교사 비율이 높을수록 저렴한 가격을 기대할 수 있다.\n",
    "\n",
    "*개인 메모 : 이것은 직감에 근거한 것이다. 이 진술은이 프로젝트의 후속 부분에서 검증될 것이다.*\n",
    "\n",
    "#### Visualization"
   ]
  },
  {
   "cell_type": "code",
   "execution_count": 4,
   "metadata": {},
   "outputs": [
    {
     "data": {
      "image/png": "[encoded data removed]",
      "text/plain": [
       "<matplotlib.figure.Figure at 0x7f088f9fb780>"
      ]
     },
     "metadata": {},
     "output_type": "display_data"
    }
   ],
   "source": [
    "# Using pyplot\n",
    "import matplotlib.pyplot as plt\n",
    "plt.figure(figsize=(20, 5))\n",
    "\n",
    "# i: index\n",
    "for i, col in enumerate(features.columns):\n",
    "    # 3 plots here hence 1, 3\n",
    "    plt.subplot(1, 3, i+1)\n",
    "    x = data[col]\n",
    "    y = prices\n",
    "    plt.plot(x, y, 'o')\n",
    "    # Create regression line\n",
    "    plt.plot(np.unique(x), np.poly1d(np.polyfit(x, y, 1))(np.unique(x)))\n",
    "    plt.title(col)\n",
    "    plt.xlabel(col)\n",
    "    plt.ylabel('prices')"
   ]
  },
  {
   "cell_type": "markdown",
   "metadata": {},
   "source": [
    "-----\n",
    "## 모델 개발하기(Developing a Model)\n",
    "\n",
    "이 프로젝트의 두 번째 섹션에서는 모델을 예측하는 데 필요한 도구와 기법을 개발한다. 이러한 도구 및 기술을 사용하여 각 모델의 성능을 정확하게 평가할 수 있으므로 예측에 대한 확신이 크게 강화된다.\n",
    "\n",
    "#### 구현(Implementation) : 성과척도 정의(Define a Performance Metric)\n",
    "\n",
    "주어진 모델의 품질을 측정하는 것은 training 및 testing에 대한 성능을 정량화하지 않고는 어렵다. 일반적으로 일부 유형의 성능 메트릭(performance metric)을 사용하여 오류 유형, 적합성(the goodness of fit) 또는 기타 유용한 측정을 계산한다. 이 프로젝트의 경우, 결정 계수 R2를 계산하여 모델의 성과를 수치화한다. 모형에 대한 결정 계수는 회귀 분석에서 유용한 통계다. 종종 모형이 예측을 얼마나 잘하는지 설명하기 때문에 회귀 분석에 유용하다.\n",
    "\n",
    "R2의 값 범위는 0에서 1까지이며, target variable의 예상 값과 실제 값 사이의 상관 관계 제곱을 포착한다. R2가 0인 모델은 항상 target variable를 예측하지 못하고 R2가 1인 모델은 target variable를 완벽하게 예측한다. 0과 1사이의 값은 이 모델을 사용하여 target variable의 몇 퍼센트가 features로 설명될 수 있는지 나타낸다. 모델에는 음의 R2도 주어질 수 있습니다. 이는 모델이 대상 변수의 평균을 순진하게 예측하는 모델보다 우수함을 나타낸다.\n",
    "\n",
    "아래 코드 셀의 performance_metric 함수의 경우 다음을 구현해야 한다.\n",
    "\n",
    "* sklearn.metrics의 r2_score를 사용하여 y_true와 y_predict 사이의 성능 계산을 수행한다.\n",
    "* 점수 변수에 성능 점수를 지정하라."
   ]
  },
  {
   "cell_type": "code",
   "execution_count": 5,
   "metadata": {
    "collapsed": true
   },
   "outputs": [],
   "source": [
    "# TODO: Import 'r2_score'\n",
    "from sklearn.metrics import r2_score\n",
    "\n",
    "def performance_metric(y_true, y_predict):\n",
    "    \"\"\" Calculates and returns the performance score between \n",
    "        true and predicted values based on the metric chosen. \"\"\"\n",
    "\n",
    "    # TODO: Calculate the performance score between 'y_true' and 'y_predict'\n",
    "    score = r2_score(y_true, y_predict)\n",
    "\n",
    "    # Return the score\n",
    "    return score"
   ]
  },
  {
   "cell_type": "markdown",
   "metadata": {},
   "source": [
    "### Question 2 - Goodness of fit(적합성)\n",
    "\n",
    "데이터 집합에 5개의 데이터 요소가 있고 모델에서 대상 변수에 대해 다음과 같은 예측을 했다고 가정한다.\n",
    "\n",
    "| True Value | Prediction |\n",
    "| :-------------: | :--------: |\n",
    "| 3.0 | 2.5 |\n",
    "| -0.5 | 0.0 |\n",
    "| 2.0 | 2.1 |\n",
    "| 7.0 | 7.8 |\n",
    "| 4.2 | 5.3 |\n",
    "*Would you consider this model to have successfully captured the variation of the target variable? Why or why not?* \n",
    "\n",
    "아래 코드 셀을 실행하여 performance_metric 함수를 사용하고 이 모델의 결정 계수를 계산하라"
   ]
  },
  {
   "cell_type": "code",
   "execution_count": 6,
   "metadata": {},
   "outputs": [
    {
     "name": "stdout",
     "output_type": "stream",
     "text": [
      "Model has a coefficient of determination, R^2, of 0.923.\n"
     ]
    }
   ],
   "source": [
    "# Calculate the performance of this model\n",
    "score = performance_metric([3, -0.5, 2, 7, 4.2], [2.5, 0.0, 2.1, 7.8, 5.3])\n",
    "print (\"Model has a coefficient of determination, R^2, of {:.3f}.\".format(score))"
   ]
  },
  {
   "cell_type": "markdown",
   "metadata": {},
   "source": [
    "**Answer**:\n",
    "* R^2 = 92.3%\n",
    "* 이는 92.3 %의 변동이 목표 변수에 의해 설명되며 높은 것으로 보임을 의미한다.\n",
    "* 잠재적인 함정 : 여기서 5 point밖에 없으며 통계적으로 유의미한 결론을 내리기가 어려울 수 있다."
   ]
  },
  {
   "cell_type": "markdown",
   "metadata": {},
   "source": [
    "### 구현 : 데이터 셔플 및 분할(Shuffle and Split Data)\n",
    "\n",
    "다음 구현에서는 보스턴 주택 데이터 세트를 가져 와서 데이터를 교육 및 테스트 하위 집합으로 나누는 것이 요구된다. 일반적으로 데이터는 무작위 순서로 섞여서 training subsets과 testing subsets을 만들어 데이터 집합의 순서에 따른 편차를 제거한다.\n",
    "\n",
    "아래의 code cell에서 다음을 구현해야 한다.  \n",
    "\n",
    "* sklearn.cross_validation의 train_test_split을 사용하여 feature 및 price data를 training과 testing sets로 shuffle하고 split한다.  \n",
    "    * data를 80% training, 20% testing으로 나눈다.\n",
    "    * train_test_split의 random_state를 원하는 값으로 설정한다. 결과가 일관성있게 유지된다.\n",
    "* train과 testing split을 X_train, X_test, y_train 및 y_test에 할당한다."
   ]
  },
  {
   "cell_type": "code",
   "execution_count": 7,
   "metadata": {},
   "outputs": [
    {
     "name": "stdout",
     "output_type": "stream",
     "text": [
      "Training and testing split was successful.\n"
     ]
    }
   ],
   "source": [
    "# TODO: Import 'train_test_split'\n",
    "from sklearn.model_selection import train_test_split\n",
    "\n",
    "# TODO: Shuffle and split the data into training and testing subsets\n",
    "X_train, X_test, y_train, y_test = train_test_split(features, prices, test_size=0.2, random_state=10)\n",
    "\n",
    "# Success\n",
    "print (\"Training and testing split was successful.\")"
   ]
  },
  {
   "cell_type": "markdown",
   "metadata": {},
   "source": [
    "#### Extra check"
   ]
  },
  {
   "cell_type": "code",
   "execution_count": 8,
   "metadata": {},
   "outputs": [
    {
     "name": "stdout",
     "output_type": "stream",
     "text": [
      "489\n",
      "0.7995910020449898\n",
      "0.20040899795501022\n"
     ]
    }
   ],
   "source": [
    "# Check if split is actually correct\n",
    "# We can see it's roughly 80% train and 20% train\n",
    "# So we can proceed!\n",
    "print(features.shape[0])\n",
    "print(float(X_train.shape[0]) / float(features.shape[0]))\n",
    "print(float(X_test.shape[0]) / float(features.shape[0]))"
   ]
  },
  {
   "cell_type": "markdown",
   "metadata": {},
   "source": [
    "### Question 3 - traing and test\n",
    "\n",
    "\n",
    "*learning algorithm에 대해 dataset을 일정 비율로 training 및 testing subsets으로 분할하면 어떤 이점이 있습니까?*  \n",
    "**Hint** : 모델을 테스트 할 방법이 없다면 무엇이 잘못될 수 있습니까?\n",
    "\n",
    "**Answer** :\n",
    "\n",
    "* 동기 부여 : 우리는 기계 학습 모델 중에서 선택할 방법이 필요하다.\n",
    "    * 그리고 우리의 목표는 샘플 밖의 데이터에서 모델의 가능성 있는 성능을 추정하는 것이다.\n",
    "* 초기 아이디어 : 우리는 동일한 데이터를 train하고 test 할 수 있다.\n",
    "    * 그러나 training 정확도를 극대화하면 training data에 과도하게 적용되는 지나치게 복잡한 모델에 대한 보상이 제공된다.\n",
    "    * 더 많은 feature를 추가하면 천천히 100%의 정확도에 도달할 수 있지만 일반화를 제대로 수행 할 수는 없다.(overfit)\n",
    "* 대안 아이디어 : train/test split을 사용할 수 있다.\n",
    "    * 우리는 그 모델을 다른 데이터로 train하고 test 할 수 있도록 하기 위해 dataset을 두 부분으로 나눌 수 있다. \n",
    "    * 그런 다음 testing 정확도는 샘플 외부 성능의 training 정확도보다 더 좋게 추정한다.\n",
    "\n",
    "**이것은 train/test split 질문의 범위를 벗어나는 확장으로, k-fold cross-validation 없이 train/test split을 단순히 사용하는 높은 분산 문제를 강조한다.**\n",
    "\n",
    "* 그러나 train/test split에 큰 문제가 있다.\n",
    "    * testing set에 뽑힌 관측치가 변경되면 testing 정확도가 크게 바뀔 수 있기 때문에 높은 분산 추정치를 제공된다.\n",
    "    * testing 정확도는 testing set에 어떤 관측치가 뽑혔는지에 따라 크게 달라질 수 있다.\n",
    "    * 따라서 이 문제를 해결하기 위해 k-fold cross-validation를 사용해야 한다.\n",
    "\n",
    "-----\n",
    "\n",
    "## Analyzing Model Performance(모델 성능 분석)\n",
    "\n",
    "\n",
    "세 번째 섹션에서는 여러 가지 모델의 learning 및 testing performances를 다양한 training data subsets에서 살펴 본다. 또한 전체 training set에서 'max_depth' parameter가 증가하는 특정 알고리즘을 조사하여 모델 복잡성이 성능에 미치는 영향을 관찰한다. 결과만으로는 명확하게 나타나지 않는 형태를 시각화하는 것과 같이 다양한 기준에 따라 모델의 성과를 그래프로 표시하는 것은 분석 프로세스에 도움이 된다.\n",
    "\n",
    "\n",
    "### Learning Curves\n",
    "\n",
    "다음 code cell은 최대 depth가 다른 decision tree model에 대해 4개의 그래프를 생성한다. 각 그래프는 training set의 크기가 증가함에 따라 training과 testing 모두에 대한 모델의 learning curve를 시각화한다. learning curve의 음영 부분은 해당 곡선의 불확도(uncertainty)를 나타낸다.(표준편차로 측정) 모델은 결정계수인 R2를 사용하여 training 및 testing sets에서 채점된다."
   ]
  },
  {
   "cell_type": "code",
   "execution_count": 12,
   "metadata": {},
   "outputs": [
    {
     "ename": "NameError",
     "evalue": "name 'ModelLearning' is not defined",
     "output_type": "error",
     "traceback": [
      "\u001b[0;31m---------------------------------------------------------------------------\u001b[0m",
      "\u001b[0;31mNameError\u001b[0m                                 Traceback (most recent call last)",
      "\u001b[0;32m<ipython-input-12-7dba77333d4d>\u001b[0m in \u001b[0;36m<module>\u001b[0;34m()\u001b[0m\n\u001b[1;32m      1\u001b[0m \u001b[0;31m# Produce learning curves for varying training set sizes and maximum depths\u001b[0m\u001b[0;34m\u001b[0m\u001b[0;34m\u001b[0m\u001b[0m\n\u001b[0;32m----> 2\u001b[0;31m \u001b[0mModelLearning\u001b[0m\u001b[0;34m(\u001b[0m\u001b[0mfeatures\u001b[0m\u001b[0;34m,\u001b[0m \u001b[0mprices\u001b[0m\u001b[0;34m)\u001b[0m\u001b[0;34m\u001b[0m\u001b[0m\n\u001b[0m",
      "\u001b[0;31mNameError\u001b[0m: name 'ModelLearning' is not defined"
     ]
    }
   ],
   "source": [
    "# Produce learning curves for varying training set sizes and maximum depths\n",
    "ModelLearning(features, prices)"
   ]
  },
  {
   "cell_type": "markdown",
   "metadata": {},
   "source": [
    "### Question 4 - Learning the Data\n",
    "\n",
    "*위의 그래프 중 하나를 선택하고 모델의 최대 깊이를 명시하십시오. 트레이닝 포인트가 추가되면 트레이닝 커브의 점수는 어떻게됩니까? 테스트 곡선은 어떻습니까? 더 많은 교육 포인트가 모델에 도움이 될까요?*\n",
    "힌트 : 학습 곡선이 특정 점수에 수렴하고 있습니까?\n",
    "\n",
    "**Answer** :  \n",
    "\n",
    "* max_depth = 1 (높은 bias 시나리오)\n",
    "\n",
    "    1. 관찰 점수에 따라 testing score(녹색 선)가 어떻게 증가하는지 볼 수 있다.\n",
    "        * 그러나 testing score는 약 0.4점으로 증가하며, 낮은 점수다.\n",
    "        * 이는 이 모델이 새롭고, 보이지 않는 데이터에 대해 일반화가 잘 되지 않은 방법이라는 것을 의미한다.\n",
    "    1. 또한, training score(빨간색 선)는 관측 횟수에 따라 감소한다.\n",
    "        * 또한, trainning score는  약 0.4의 매우 낮은 점수로 감소한다.\n",
    "        * 이는 이 모델이 데이터에 적절하게 fit 되지 않은 것으로 짐작된다.\n",
    "    1. 따라서 이 모델은 높은 bias 문제에 직면하고 있다고 말할 수 있다. 결과적으로, 모델이 dataset에 underfitting되었기 때문에 더 많은 training point를 갖는 것이 모델에 도움이 되지 않는다. 대신, dataset에 더 적합하도록 모델 복잡성을 증가시켜야 한다. \n",
    "        * 게다가, tesing score는 극대점에 도달하여 모델에 더 많은 training point를 추가해도 향상되지 않을 수 있음을 나타낸다.  \n",
    "        \n",
    "** 이것은 완전성을 위해 나머지 depth들에 대해 확장해 설명한 것이다. 완전한 문장으로 쓰는 대신 모든 것을 요약했다.**\n",
    "\n",
    "* max_depth = 3 (이상적인 시나리오)\n",
    "    1. testing score (녹색 선)는 training point와 함께 증가한다.\n",
    "        * ~0.8에 도달\n",
    "        * 높은 점수\n",
    "        * 적절한 일반화\n",
    "    1. training score (빨간색 선)가 training point에 따라 약간 감소한다.\n",
    "        * ~0.8에 도달\n",
    "        * 높은 점수\n",
    "        * dataset에 잘 fit됨\n",
    "    1. 높은 bias 또는 높은 variance 문제가 없는 것 같다.\n",
    "        * Model은 적합하고 잘 일반화 되었다.\n",
    "        * 이상적임\n",
    "        * 더 많은 training point가 더 이상적인 모델이 되어야 한다!\n",
    "* max_depth = 10 (high variance 시나리오)\n",
    "    1. testing score(녹색 선)는 training point와 함께 증가한다.\n",
    "        * ~ 0.7에 도달\n",
    "        * 별로 좋지 않은 점수\n",
    "        * 잘 일반화하지 않는다.\n",
    "    1. training score(빨간 선)는 training point로 간신히 감소한다.\n",
    "        * ~ 1.0\n",
    "        * 거의 완벽한 점수\n",
    "        * 적합하지 않은 데이터 세트\n",
    "    1. 높은 분산 문제가있는 것 같다.\n",
    "        * 과최적화\n",
    "* max_depth = 6 (Slightly High Variance 시나리오)\n",
    "    1. testing score(녹색 선)는 training point와 함께 증가한다.\n",
    "        * ~ 0.75에 도달\n",
    "        * 별로 좋지 않은 점수\n",
    "        * 잘 일반화하지 않는다.\n",
    "    1. (빨간색 선)가 훈련 점에 따라 약간 감소한다.\n",
    "        * ~ 0.9까지\n",
    "        * 높은 점수\n",
    "        * 과최적화된 dataset\n",
    "    1. 높은 분산 문제가 있는 것 같다.\n",
    "        * 과최적화\n",
    "        * 더 많은 training point가 도움이 될 수 있다.\n",
    "        * 이상적인 시나리오에 가까워지고 있다!\n",
    "\n",
    "\n",
    "### Complexity Curves\n",
    "\n",
    "\n",
    "다음 code cell은 서로 다른 maximum depths를 사용하여 training data에서 훈련(trained)되고 유효성이 검증된(validated) 의사 결정 트리 모델에 대한 그래프를 생성한다. 그래프는 두 가지 복잡성 곡선을 생성한다. 하나는 training용이고 다른 하나는 유효성 검사(validation)용이다. **Learing Curves**과 유사하게 두 복잡도 곡선의 음영 영역은 해당 곡선의 불확실성을 나타내며 model은 performance_metric 함수를 사용하여 training 및 validation 모두에서 점수가 매겨진다.\n",
    "\n",
    "아래의 code cell을 실행하고 이 그래프를 사용하여 다음 두 가지 질문에 답하라."
   ]
  },
  {
   "cell_type": "code",
   "execution_count": 13,
   "metadata": {},
   "outputs": [
    {
     "ename": "NameError",
     "evalue": "name 'ModelComplexity' is not defined",
     "output_type": "error",
     "traceback": [
      "\u001b[0;31m---------------------------------------------------------------------------\u001b[0m",
      "\u001b[0;31mNameError\u001b[0m                                 Traceback (most recent call last)",
      "\u001b[0;32m<ipython-input-13-eb5a726430f2>\u001b[0m in \u001b[0;36m<module>\u001b[0;34m()\u001b[0m\n\u001b[0;32m----> 1\u001b[0;31m \u001b[0mModelComplexity\u001b[0m\u001b[0;34m(\u001b[0m\u001b[0mX_train\u001b[0m\u001b[0;34m,\u001b[0m \u001b[0my_train\u001b[0m\u001b[0;34m)\u001b[0m\u001b[0;34m\u001b[0m\u001b[0m\n\u001b[0m",
      "\u001b[0;31mNameError\u001b[0m: name 'ModelComplexity' is not defined"
     ]
    }
   ],
   "source": [
    "ModelComplexity(X_train, y_train)"
   ]
  },
  {
   "cell_type": "markdown",
   "metadata": {},
   "source": [
    "### Question 5 - Bias-Variance Tradeoff\n",
    "\n",
    "* model을 maximum depth 1로 train 할 때, model에 높은 bias 또는 높은 variance가 발생합니까?  model의 maximum depth가 10인 경우 어떤가? graph의 시각적 단서는 결론을 정당화합니까?*\n",
    "\n",
    "**Hint :** model이 높은 bias 또는 높은 variance를 겪고 있는지 어떻게 알 수 있습니까?\n",
    "\n",
    "**Answer :  \n",
    "model이 높은 bias 또는 높은 variance을 겪고있을 때 identifying**\n",
    "\n",
    "* model이 높은 bias 또는 높은 variance을 겪고 있는지 여부를 쉽게 식별할 수 있다.\n",
    "    * 높은 variance model은 training score와 validation score 사이에 차이가 있다.\n",
    "        * model을 잘 fit할 수는 있지만 잘 일반화 할 수 없기 때문에 높은 training score는되지만 validation score는 낮기 때문이다.\n",
    "    * 높은 bias model은 training score와 validation score 사이의 차이가 거의 없거나 전혀 없습니다.\n",
    "        * model을 잘 fit하지 못하고 잘 일반화 할 수 없기 때문에 두 점수가 비슷하게 낮은 점수로 수렴되기 때문이다.\n",
    "\n",
    "**1. 최대 깊이 1 : 높은 bias**\n",
    "* training score와 testing score는 모두 낮다.\n",
    "* training score와 testing score 사이에는 간극이 거의 없다.\n",
    "* 이는 model이 dataset를 잘 fitting하지 못했음을 나타내며 일반화가 잘되지 않아 model이 높은 bias를 겪고 있음을 나타낸다.\n",
    "\n",
    "**2. 최대 깊이 10 : 고 variance**\n",
    "\n",
    "* training score가 높다. testing score가 낮음\n",
    "* training score와 testing score 사이에는 상당한 차이가 있다.\n",
    "* 이는 model이 dataset를 잘 fitting되었지만 잘 일반화되지 않았음을 나타내므로 model은 높은 variance을 겪고 있다.  \n",
    "\n",
    "\n",
    "\n",
    "### Question 6 - Best-Guess Optimal Model\n",
    "*보이지 않는 data를 가장 잘 대표하는 model의 maximum depth는 어느 정도라고 생각하십니까? 어떤 직감이 이 대답을 이끄는가?*\n",
    "\n",
    "**Answer** :\n",
    "\n",
    "* maximum depth는 4다.\n",
    "* training score는 여기가 최고치(plateau)인 것으로 보이는데, 보이지 않는 data로 일반화하는 model의 가능한 최고 점수를 나타낸다.\n",
    "* training score와 test score 사이의 차이는 너무 심하지 않아서 model이 높은 variance scenario를 겪지 않을 수도 있음을 나타낸다.\n",
    "\n",
    "-----\n",
    "\n",
    "## Evaluating Model Performance\n",
    "\n",
    "프로젝트의 마지막 섹션에서는 fit_model의 최적화 된 model을 사용하여 model을 구성하고 client의 feature set를 예측한다.\n",
    "\n",
    "### Question 7 - Grid Search\n",
    "\n",
    "*grid search technique은 무엇이며 어떻게 learning algorithm을 최적화하기 위해 적용될 수 있는가?*  \n",
    "\n",
    "**Answer** :  \n",
    "\n",
    "* 본질적으로, grid search technique은 k-fold cross-validation을 사용하여 검색될 parameter들의 grid를 정의할 수 있게 한다.\n",
    "* 중요한 것은 grid search technique이 최상의 model을 찾기 위해 제공되는 hyper-parameter 값의 모든 조합을 철저히 시도한다는 것이다.\n",
    "* 그런 다음 learning algorithm을 최적화하는 해당 parameters와 일치하는 cross-validation(교차 유효성 검사) 정확도가 가장 높다.\n",
    "\n",
    "#### 전문가의 팁 : RandomizedSearchCV\n",
    "\n",
    "* 우리는 GridSearchCV를 사용할 것이지만 더 큰 dataset의 경우 계산적 비용이 많이 들 수 있다.\n",
    "* RandomizedSearchCV와 같이 시간을 절약하기 위해 hyperparameter 최적화에 사용될 수있는 다른 기술이 있다. 이 경우 전체 parameter 공간을 탐색하는 대신 지정된 distribution(분포)에서 parameter 중 setting된 고정된 수만큼만 샘플링한다.\n",
    "* 이는 시간을 절약해야 할 때 유용하지만 dataset가 비교적 적은 우리의 경우에는 필요하지 않다.\n",
    "\n",
    "*아래에서 GridSearch CV 및 RandomizedSearchCV를 시연합니다.*\n",
    "\n",
    "### Question 8 - Cross-Validation\n",
    "\n",
    "*k-fold 교차 검증 교육 기술은 무엇입니까? 이 기술은 model을 최적화 할 때 grid search에 어떤 이점을 제공합니까?*  \n",
    "**Hint** : test set가 있는 이유와 매우 흡사하게 cross-validated set가 없는 grid search을 사용하면 무엇이 잘못될 수 있는가?\n",
    "\n",
    "**Answer** :  \n",
    "\n",
    "* K-fold cross-validation 요약 :\n",
    "    * dataset는 동일한 크기의 K \"folds\"로 분할된다.\n",
    "    * 각 fold는 testing set으로 1번 작동하고, training set K-1 번으로 작동한다.\n",
    "    * average testing 성능은 샘플 밖의 성능(out-of-sample perfomance)의 추정치로 사용된다.\n",
    "    * cross-validated performance라고도 한다.\n",
    "* K-fold cross-validation의 이점 :\n",
    "    * train/test split보다 샘플 밖의 성능에 대한 보다 신뢰할만한 추정.\n",
    "    * train/test split의 단일 평가판(single trial)의 variance을 줄인다.\n",
    "* 따라서 k-fold cross-validation의 이점을 통해 평균 learning algorithm에 대한 가장 최적화된 parameters의 set을 결정하기 위한 benchmark로서 average testing 정확도를 사용할 수 있다.\n",
    "    * cross-validation set을 사용하지 않고 grid search를 실행하면, cross-validation set가 없기 때문에 최적의 parameters sets가 달라지게 되고, out-of-sample performance의 추정치가 높은 variance를 가진다\n",
    "    * 요약하면, k-fold cross-validation이 없으면 grid search가 특정 train-test split에서는 성능이 매우 좋지만 그 밖의 경우에는 poorly한 hyper-parameter value combinations을 선택할 위험이 더 높다.\n",
    "\n",
    "#### k- fold cross-validation의 제한 :\n",
    "\n",
    "* data가 균일하게(uniformly) 분포되지 않은 경우(예 : sorted data) 제대로 작동하지 않는다.\n",
    "\n",
    "### Implementation : Fitting a model\n",
    "\n",
    "최종 implementation에서는 **decision tree algorithm**을 사용하여 모든 것을 함께 가져 와서 model을 train해야한다. optimized model을 생성하기 위해 grid search technique을 사용하여 model을 train하여 decision tree algorithm의 'max_depth' parameter를 최적화한다. 'max_depth' parameter는 decision tree algorithm이 예측을 하기 전에 data에 대해 물어볼 수 있는 질문의 수로 생각할 수 있다. decision tree는 *supervised learning algorithms*이라고 하는 algorithms class의 일부다.\n",
    "\n",
    "아래 code cell의 fit_model fuction의 경우 다음을 구현해야 한다.\n",
    "\n",
    "* decision tree regressor object(회귀 객체)를 생성하려면 sklearn.tree의 DecisionTreeRegressor를 사용.\n",
    "    * 이 객체를 'regressor'변수에 할당.\n",
    "* 1에서 10 사이의 값으로 'max_depth'에 대한 dictionary를 만들고 이를 'params'변수에 할당.\n",
    "* sklearn.metrics의 make_scorer을 사용하여 scoring function object(채점 함수 객체)를 만든다.\n",
    "    * performance_metric fuction을 parameter로 그 object에 전달(pass).\n",
    "    * 이 scoring function을 'scoring_fnc'변수에 할당.\n",
    "* sklearn.grid_search의 GridSearchCV를 사용하여 grid search object를 만든다.\n",
    "    * parameter로 'regressor', 'params', 'scoring_fnc'및 'cv_sets'변수를 object에 전달.\n",
    "    * GridSearchCV object를 'grid'변수에 할당.\n",
    "    \n",
    "#### Using GridSearchCV"
   ]
  },
  {
   "cell_type": "code",
   "execution_count": 15,
   "metadata": {
    "collapsed": true
   },
   "outputs": [],
   "source": [
    "# TODO: Import 'make_scorer', 'DecisionTreeRegressor', and 'GridSearchCV'\n",
    "from sklearn.metrics import make_scorer\n",
    "from sklearn.tree import DecisionTreeRegressor\n",
    "from sklearn.model_selection import GridSearchCV\n",
    "from sklearn.model_selection import ShuffleSplit\n",
    "\n",
    "def fit_model(X, y):\n",
    "    \"\"\" Performs grid search over the 'max_depth' parameter for a \n",
    "        decision tree regressor trained on the input data [X, y]. \"\"\"\n",
    "\n",
    "    # Create cross-validation sets from the training data\n",
    "    # ShuffleSplit works iteratively compared to KFOLD\n",
    "    # It saves computation time when your dataset grows\n",
    "    # X.shape[0] is the total number of elements\n",
    "    # n_iter is the number of re-shuffling & splitting iterations.\n",
    "    cv_sets = ShuffleSplit(X.shape[0], test_size = 0.20, random_state = 0)\n",
    "\n",
    "    # TODO: Create a decision tree regressor object\n",
    "    # Instantiate\n",
    "    regressor = DecisionTreeRegressor(random_state=0)\n",
    "\n",
    "    # TODO: Create a dictionary for the parameter 'max_depth' with a range from 1 to 10\n",
    "    dt_range = range(1, 11)\n",
    "    params = dict(max_depth=dt_range)\n",
    "\n",
    "    # TODO: Transform 'performance_metric' into a scoring function using 'make_scorer' \n",
    "    # We initially created performance_metric using R2_score\n",
    "    scoring_fnc = make_scorer(performance_metric)\n",
    "\n",
    "    # TODO: Create the grid search object\n",
    "    # You would realize we manually created each, including scoring_func using R^2\n",
    "    grid = GridSearchCV(regressor, params, cv=cv_sets, scoring=scoring_fnc)\n",
    "\n",
    "    # Fit the grid search object to the data to compute the optimal model\n",
    "    grid = grid.fit(X, y)\n",
    "\n",
    "    # Return the optimal model after fitting the data\n",
    "    return grid.best_estimator_"
   ]
  },
  {
   "cell_type": "markdown",
   "metadata": {},
   "source": [
    "#### Using RandomizedSearchCV\n",
    "*필자는 함수의 이름을 특별히 변경하여 original question과 충돌하지 않도록 했다.*"
   ]
  },
  {
   "cell_type": "code",
   "execution_count": 14,
   "metadata": {
    "collapsed": true
   },
   "outputs": [],
   "source": [
    "# Import RandomizedSearchCV\n",
    "from sklearn.model_selection import RandomizedSearchCV\n",
    "\n",
    "# Create new similar function\n",
    "def fit_model_2(X, y):\n",
    "    \"\"\" Performs grid search over the 'max_depth' parameter for a \n",
    "        decision tree regressor trained on the input data [X, y]. \"\"\"\n",
    "\n",
    "    # Create cross-validation sets from the training data\n",
    "    # ShuffleSplit works iteratively compared to KFOLD\n",
    "    # It saves computation time when your dataset grows\n",
    "    # X.shape[0] is the total number of elements\n",
    "    # n_iter is the number of re-shuffling & splitting iterations.\n",
    "    cv_sets = ShuffleSplit(X.shape[0], test_size = 0.2, random_state = 0)\n",
    "\n",
    "    # TODO: Create a decision tree regressor object\n",
    "    # Instantiate\n",
    "    regressor = DecisionTreeRegressor(random_state=0)\n",
    "\n",
    "    # TODO: Create a dictionary for the parameter 'max_depth' with a range from 1 to 10\n",
    "    dt_range = range(1, 11)\n",
    "    params = dict(max_depth=dt_range)\n",
    "\n",
    "    # TODO: Transform 'performance_metric' into a scoring function using 'make_scorer' \n",
    "    # We initially created performance_metric using R2_score\n",
    "    scoring_fnc = make_scorer(performance_metric)\n",
    "\n",
    "    # TODO: Create the grid search object\n",
    "    # You would realize we manually created each, including scoring_func using R^2\n",
    "    rand = RandomizedSearchCV(regressor, params, cv=cv_sets, scoring=scoring_fnc)\n",
    "\n",
    "    # Fit the grid search object to the data to compute the optimal model\n",
    "    rand = rand.fit(X, y)\n",
    "\n",
    "    # Return the optimal model after fitting the data\n",
    "    return rand.best_estimator_"
   ]
  },
  {
   "cell_type": "markdown",
   "metadata": {},
   "source": [
    "### Making Predictions\n",
    "\n",
    "model이 주어진 dataset에 대해 train을 받으면 이제는 새로운 input dataset에 대한 예측을 수행하는 데 사용할 수 있다. *decision tree regressor*의 경우 model은 *input data에 대해 물어 보는 가장 좋은 질문*을 배웠고 **target variable**에 대한 예측으로 응답 할 수 있다. 이 예측을 사용하여 model이 train되지 않은 data와 같이 target variable의 값을 알 수 없는 data에 대한 정보를 얻을 수 있다.\n",
    "\n",
    "### Question9 - Optimal Model\n",
    "\n",
    "*최적의 모델이 갖는 Maximum depth는 얼마인가? 이 결과는 **Question 6**에서의 추측과 어떻게 비교되는가? *\n",
    "\n",
    "아래의 code block을 실행하여 decision tree regressor를 training data에 맞추고(fit) 최적의 model을 생성."
   ]
  },
  {
   "cell_type": "code",
   "execution_count": 16,
   "metadata": {},
   "outputs": [
    {
     "name": "stdout",
     "output_type": "stream",
     "text": [
      "Parameter 'max_depth' is 4 for the optimal model.\n"
     ]
    }
   ],
   "source": [
    "# Fit the training data to the model using grid search\n",
    "reg = fit_model(X_train, y_train)\n",
    "\n",
    "# Produce the value for 'max_depth'\n",
    "print (\"Parameter 'max_depth' is {} for the optimal model.\".format(reg.get_params()['max_depth']))"
   ]
  },
  {
   "cell_type": "code",
   "execution_count": 17,
   "metadata": {},
   "outputs": [
    {
     "data": {
      "text/plain": [
       "{'criterion': 'mse',\n",
       " 'max_depth': 4,\n",
       " 'max_features': None,\n",
       " 'max_leaf_nodes': None,\n",
       " 'min_impurity_decrease': 0.0,\n",
       " 'min_impurity_split': None,\n",
       " 'min_samples_leaf': 1,\n",
       " 'min_samples_split': 2,\n",
       " 'min_weight_fraction_leaf': 0.0,\n",
       " 'presort': False,\n",
       " 'random_state': 0,\n",
       " 'splitter': 'best'}"
      ]
     },
     "execution_count": 17,
     "metadata": {},
     "output_type": "execute_result"
    }
   ],
   "source": [
    "# Explanation of how we got the 'max_depth' param\n",
    "# First we fit the model\n",
    "# Then we use get_params() to get the optimal parameters\n",
    "# As you can see here, it's a dictionary\n",
    "reg = fit_model(X_train, y_train)\n",
    "reg.get_params()"
   ]
  },
  {
   "cell_type": "code",
   "execution_count": 18,
   "metadata": {},
   "outputs": [
    {
     "data": {
      "text/plain": [
       "4"
      ]
     },
     "execution_count": 18,
     "metadata": {},
     "output_type": "execute_result"
    }
   ],
   "source": [
    "# We can access our value from reg.get_params(), a dictionary, using dict['key']\n",
    "reg.get_params()['max_depth']"
   ]
  },
  {
   "cell_type": "code",
   "execution_count": 19,
   "metadata": {},
   "outputs": [
    {
     "name": "stdout",
     "output_type": "stream",
     "text": [
      "Parameter 'max_depth' is 4 for the optimal model.\n"
     ]
    }
   ],
   "source": [
    "# Fit the training data to the model using grid search\n",
    "reg_2 = fit_model_2(X_train, y_train)\n",
    "\n",
    "# Produce the value for 'max_depth'\n",
    "print (\"Parameter 'max_depth' is {} for the optimal model.\".format(reg_2.get_params()['max_depth']))"
   ]
  },
  {
   "cell_type": "markdown",
   "metadata": {},
   "source": [
    "질문 10 - 판매 가격 예측\n",
    "보스톤 지역의 부동산 중개인이이 모델을 사용하여 고객이 소유하고자하는 주택 가격을 돕고 싶다고 상상해보십시오. 세 명의 고객으로부터 다음 정보를 수집했습니다.\n",
    "\n",
    "각 고객이 집에 어떤 가격으로 판매 할 것을 권하고 싶습니까? 이 가격은 해당 기능의 가치를 고려할 때 합리적인 것으로 보입니까?\n",
    "힌트 : 데이터 탐색 섹션에서 계산 한 통계를 사용하여 응답을 정당화하십시오.\n",
    "\n",
    "아래의 코드 블록을 실행하여 최적화 된 모델이 각 고객의 집에 대한 예측을하도록하십시오."
   ]
  },
  {
   "cell_type": "code",
   "execution_count": 20,
   "metadata": {},
   "outputs": [
    {
     "name": "stdout",
     "output_type": "stream",
     "text": [
      "Predicted selling price for Client 1's home: $406,933.33\n",
      "Predicted selling price for Client 2's home: $232,200.00\n",
      "Predicted selling price for Client 3's home: $938,053.85\n"
     ]
    }
   ],
   "source": [
    "# Produce a matrix for client data\n",
    "client_data = [[5, 17, 15], # Client 1\n",
    "               [4, 32, 22], # Client 2\n",
    "               [8, 3, 12]]  # Client 3\n",
    "\n",
    "# Show predictions\n",
    "for i, price in enumerate(reg.predict(client_data)):\n",
    "    print (\"Predicted selling price for Client {}'s home: ${:,.2f}\".format(i+1, price))"
   ]
  },
  {
   "cell_type": "markdown",
   "metadata": {},
   "source": [
    "대답:\n",
    "\n",
    "추천 가격\n",
    "\n",
    "고객 1 : 406,900\n",
    "클라이언트 2 : 232,200\n",
    "고객 3 : 938,100\n",
    "데이터 탐색 결과\n",
    "\n",
    "최소 가격 : $ 105,000.00\n",
    "\n",
    "최대 가격 : 1,024,800.00 달러\n",
    "\n",
    "평균 가격 : 454,342.94 달러\n",
    "\n",
    "중간 가격 $ 438,900.00\n",
    "\n",
    "가격 표준 편차 : $ 165,340.28\n",
    "\n",
    "유리\n",
    "\n",
    "데이터 세트의 가격이 모두 가장 가까운 백으로 반올림됨에 따라 가격은 가장 가까운 백으로 반올림됩니다.\n",
    "데이터 탐사와 비교할 때, 고객 1과 고객 2의 주택 가격은 평균값과 중간 가격보다 낮은 것으로 보인다.\n",
    "클라이언트 2의 경우 빈곤 수준이 높고 학생 대 교사 비율이 높아서 합리적인 것처럼 보입니다.\n",
    "클라이언트 1의 경우 평균 빈곤 수준과 학생 대 교사 비율로 인해 합리적인 것처럼 보입니다.\n",
    "그리고 고객 3의 주택 가격은 평균 및 중간 가격보다 높으며 데이터 세트의 최대 가격에 근접합니다.\n",
    "이는 빈곤 수준이 낮고 학생 대 교사 비율이 높고 많은 수의 방이있는 경우 타당합니다."
   ]
  },
  {
   "cell_type": "code",
   "execution_count": 35,
   "metadata": {},
   "outputs": [
    {
     "data": {
      "image/png": "[encoded data removed]",
      "text/plain": [
       "<matplotlib.figure.Figure at 0x22e887d7080>"
      ]
     },
     "metadata": {},
     "output_type": "display_data"
    }
   ],
   "source": [
    "import matplotlib.pyplot as plt\n",
    "plt.hist(prices, bins = 20)\n",
    "for price in reg.predict(client_data):\n",
    "    plt.axvline(price, lw = 5, c = 'r')"
   ]
  },
  {
   "cell_type": "markdown",
   "metadata": {},
   "source": [
    "전문가 팁 : NearestNeighbors를 사용하여 예측의 합리성 평가\n",
    "\n",
    "예측값이 합리적인지를 평가하기 위해 중앙값과 평균값을 비교하고 하나의 표준 편차 범위에 포함되어 있는지 확인하기 위해 SKlearn을 사용하여 특징 벡터의 가장 가까운 이웃을 찾을 수 있습니다.\n",
    "그런 다음 결과를 비슷한 특성을 가진 가장 가까운 이웃과 대조 할 수 있습니다."
   ]
  },
  {
   "cell_type": "code",
   "execution_count": null,
   "metadata": {
    "collapsed": true
   },
   "outputs": [],
   "source": [
    "# Import NearestNeighbors\n",
    "from sklearn.neighbors import NearestNeighbors\n",
    "\n",
    "# Set number of neighbors\n",
    "num_neighbors=5\n",
    "\n",
    "def nearest_neighbor_price(x):\n",
    "    # x is your vector and X is the data set.\n",
    "    def find_nearest_neighbor_indexes(x, X):\n",
    "        # Instantiate\n",
    "        neigh = NearestNeighbors(num_neighbors)\n",
    "        # Fit\n",
    "        neigh.fit(X)\n",
    "        distance, indexes = neigh.kneighbors(x)\n",
    "        return indexes\n",
    "        # This returns, the position, say for example [4, 55, 22]\n",
    "        # array([[357, 397, 356, 141, 395]])\n",
    "    indexes = find_nearest_neighbor_indexes(x, features)\n",
    "    # Create list\n",
    "    sum_prices = []\n",
    "    # Loop through the array\n",
    "    for i in indexes:\n",
    "        # Append the prices to the list using the index position i\n",
    "        sum_prices.append(prices[i])\n",
    "    # Average prices\n",
    "    neighbor_avg = np.mean(sum_prices)\n",
    "    # Return average\n",
    "    return neighbor_avg\n",
    "\n",
    "# Test if it's working with a list [4, 55, 22]\n",
    "arr_test = np.array([4, 55, 22]).reshape(1, -1)\n",
    "print (nearest_neighbor_price(arr_test))\n",
    "\n",
    "# client_data = [[5, 17, 15], # Client 1\n",
    "               #[4, 32, 22], # Client 2\n",
    "               #[8, 3, 12]]  # Client 3\n",
    "\n",
    "# Loop through data, this is basically doing the following\n",
    "# print(nearest_neighbor_price([5, 17, 15]))\n",
    "# print(nearest_neighbor_price([4, 32, 22]))\n",
    "# print(nearest_neighbor_price([8, 3, 12]]))\n",
    "index = 0\n",
    "for i in client_data:\n",
    "    arr = np.array(i).reshape(1, -1)\n",
    "    val=nearest_neighbor_price(arr)\n",
    "    index += 1\n",
    "    # num_neighbours is constant at 5\n",
    "    # index changes from 1 to 2 to 3\n",
    "    # value changes respectively from $372,540.00 to $162,120.00 to $897,120.00\n",
    "    print (\"The predicted {} nearest neighbors price for home {} is: ${:,.2f}\".format(num_neighbors,index, val))"
   ]
  },
  {
   "cell_type": "markdown",
   "metadata": {},
   "source": [
    "sensitivity  \n",
    "최적의 모델은 반드시 강건한 모델은 아닙니다. 때로는 모델이 너무 복잡하거나 너무 단순하여 새로운 데이터로 충분히 일반화 할 수 없습니다. 때때로 모델은 주어진 데이터의 구조에 적합하지 않은 학습 알고리즘을 사용할 수 있습니다. 다른 경우, 데이터 자체가 너무 시끄 럽거나 모델이 목표 변수를 적절하게 포착 할 수 있도록 너무 적은 샘플을 포함 할 수 있습니다. 즉, 모델이 적합하지 않습니다. 아래의 코드 셀을 실행하여 다른 교육 및 테스트 세트로 fit_model 함수를 10 번 실행하면 특정 클라이언트에 대한 예측이 훈련 된 데이터로 어떻게 변경되는지 확인할 수 있습니다."
   ]
  },
  {
   "cell_type": "code",
   "execution_count": null,
   "metadata": {
    "collapsed": true
   },
   "outputs": [],
   "source": [
    "vpython.PredictTrials(features, prices, fit_model, client_data)"
   ]
  },
  {
   "cell_type": "markdown",
   "metadata": {},
   "source": [
    "질문 11 - 적용 가능성\n",
    "몇 문장으로, 구성된 모델이 실제 환경에서 사용되어야하는지 또는 사용되어서는 안되는지 논의하십시오.\n",
    "힌트 : 응답 할 몇 가지 질문 :\n",
    "\n",
    "오늘날과 관련이있는 것은 1978 년에 수집 된 데이터입니까?\n",
    "데이터에있는 기능이 가정을 설명하기에 충분한가요?\n",
    "일관성있는 예측을 할 수있을 정도로 강력한 모델입니까?\n",
    "보스턴과 같은 도시의 도시에서 수집 한 데이터는 시골 도시에 적용될 수 있습니까?\n",
    "대답:\n",
    "\n",
    "시골 도시에서 수집 한 데이터는 인구 통계가 변경 될 때 적용되지 않을 수 있으며 다른 기능은 도시 데이터를 사용하여 학습 한 기능이있는 모델 대신 데이터 세트에 더 잘 맞을 수 있습니다.\n",
    "학습 알고리즘은 1978 년 이후 인구 통계가 많이 바뀌었기 때문에 관련성이 없을 수있는 아주 오래된 데이터 세트에서 배웠습니다.\n",
    "현재 3 가지 기능 만 있습니다. 도시와 가까운 범죄율, 대중 교통 출입구 등 더 많은 기능이 포함될 수 있습니다."
   ]
  },
  {
   "cell_type": "code",
   "execution_count": null,
   "metadata": {
    "collapsed": true
   },
   "outputs": [],
   "source": []
  }
 ],
 "metadata": {
  "kernelspec": {
   "display_name": "Python 3",
   "language": "python",
   "name": "python3"
  },
  "language_info": {
   "codemirror_mode": {
    "name": "ipython",
    "version": 3
   },
   "file_extension": ".py",
   "mimetype": "text/x-python",
   "name": "python",
   "nbconvert_exporter": "python",
   "pygments_lexer": "ipython3",
   "version": "3.6.3"
  }
 },
 "nbformat": 4,
 "nbformat_minor": 2
}
